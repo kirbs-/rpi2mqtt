{
 "cells": [
  {
   "cell_type": "code",
   "execution_count": 1,
   "id": "87804e72-54e3-4427-a613-2088626a2182",
   "metadata": {},
   "outputs": [],
   "source": [
    "%load_ext autoreload"
   ]
  },
  {
   "cell_type": "code",
   "execution_count": 2,
   "id": "7b04973b-d277-45ea-8320-d637d31ef381",
   "metadata": {},
   "outputs": [],
   "source": [
    "autoreload 2"
   ]
  },
  {
   "cell_type": "code",
   "execution_count": 1,
   "id": "2fa18a59-93f8-4454-9f88-c8c77d8bfcff",
   "metadata": {},
   "outputs": [],
   "source": [
    "from rpi2mqtt.config import *"
   ]
  },
  {
   "cell_type": "code",
   "execution_count": 2,
   "id": "24f811dc-7cab-4f78-8723-1bf3f03a5b1d",
   "metadata": {},
   "outputs": [],
   "source": [
    "import yaml\n",
    "from collections import deque"
   ]
  },
  {
   "cell_type": "code",
   "execution_count": 3,
   "id": "2a7044dd-f13b-4d2b-96fb-34af51bfdd9b",
   "metadata": {},
   "outputs": [],
   "source": [
    "class HestiaPi:\n",
    "\n",
    "    def __init__(self, **kwargs):\n",
    "        # self._modes = HVAC.HEAT_PUMP_MODES\n",
    "        # super(HestiaPi, self).__init__(kwargs.get('name'), None, kwargs.get('topic'), 'climate', 'HestiaPi')\n",
    "        self.mode = kwargs.get('mode', 'heat')\n",
    "        # self.active = False\n",
    "        # self.desired_mode = 'off'\n",
    "        self.active_start_time = None\n",
    "        self.set_point_cool = kwargs.get('cool_setpoint', 76)\n",
    "        self.set_point_heat = kwargs.get('heat_setpoint', 68)\n",
    "        # how much wiggle room in temperature reading before starting/stopping HVAC.\n",
    "        # setting this too low can trigger frequence HVAC cycles.\n",
    "        self.set_point_tolerance = kwargs.get('set_point_tolerance', 0.5)\n",
    "        # Minimum time HVAC should run (in minutes)\n",
    "        self.min_run_time = kwargs.get('min_run_time', 15)\n",
    "        # how soon can HVAC be activated again after stopping (in minutes)\n",
    "        self.min_trigger_cooldown_time = kwargs.get('min_trigger_cooldown_time', 15)\n",
    "        self.last_mode_change_time = None\n",
    "        self.last_hvac_state_change_time = None\n",
    "        self.bme280 = None\n",
    "        # container to holder mode switches. Do not use directly.\n",
    "        self._modes = {}\n",
    "        # container to store temperature history\n",
    "        self.temperature_history = deque(maxlen=kwargs.get('temperature_history_period', 6))\n",
    "        # Minimum temperature rate of change over 4 measurements\n",
    "        self.minimum_temp_rate_of_change = kwargs.get('minimum_temp_rate_of_change', -0.25)\n",
    "        # super(HestiaPi, self).__init__(name, None, topic, 'climate', 'HestiaPi')\n",
    "        # put thermostat into test mode. i.e. don't trigger HVAC commands\n",
    "        self.dry_run = kwargs.get('dry_run')\n",
    "        # save boost state\n",
    "        self._boosting_heat = 'off'\n",
    "        self._boosting_start_time = None\n",
    "        self._boosting_enabled_switch = None\n",
    "        self.aux_enabled = kwargs.get('aux_enabled', 'on')\n",
    "\n",
    "        # self.setup()"
   ]
  },
  {
   "cell_type": "code",
   "execution_count": 19,
   "id": "8adca363-7758-423a-95cb-cdd0b09f9475",
   "metadata": {},
   "outputs": [
    {
     "ename": "AttributeError",
     "evalue": "'dict' object has no attribute 'Config'",
     "output_type": "error",
     "traceback": [
      "\u001b[0;31m---------------------------------------------------------------------------\u001b[0m",
      "\u001b[0;31mAttributeError\u001b[0m                            Traceback (most recent call last)",
      "Cell \u001b[0;32mIn [19], line 1\u001b[0m\n\u001b[0;32m----> 1\u001b[0m c \u001b[38;5;241m=\u001b[39m config\u001b[38;5;241m.\u001b[39mConfig\u001b[38;5;241m.\u001b[39mget_instance(\u001b[38;5;124m'\u001b[39m\u001b[38;5;124mrpi2mqtt/config.yaml\u001b[39m\u001b[38;5;124m'\u001b[39m)\n",
      "\u001b[0;31mAttributeError\u001b[0m: 'dict' object has no attribute 'Config'"
     ]
    }
   ],
   "source": [
    "c = config.Config.get_instance('rpi2mqtt/config.yaml')"
   ]
  },
  {
   "cell_type": "code",
   "execution_count": 7,
   "id": "8402a8b5-16d6-432e-bc87-a4c2d16a7581",
   "metadata": {},
   "outputs": [
    {
     "data": {
      "text/plain": [
       "'_ipython_display_: {}\\n_repr_html_: {}\\n_repr_javascript_: {}\\n_repr_jpeg_: {}\\n_repr_json_: {}\\n_repr_latex_: {}\\n_repr_markdown_: {}\\n_repr_mimebundle_: {}\\n_repr_pdf_: {}\\n_repr_png_: {}\\n_repr_svg_: {}\\nlog_level: info\\nloglevel: {}\\nmqtt:\\n  host: example.com\\n  port: 8883\\n  retries: 3\\npolling_interval: 300\\nsensors: null\\n'"
      ]
     },
     "execution_count": 7,
     "metadata": {},
     "output_type": "execute_result"
    }
   ],
   "source": [
    "yaml.dump(c.toDict())"
   ]
  },
  {
   "cell_type": "code",
   "execution_count": 4,
   "id": "ba52b707-8ee9-4bb8-891c-69dd19b44257",
   "metadata": {},
   "outputs": [],
   "source": [
    "with open('rpi2mqtt/config.yaml', 'r') as f:\n",
    "    config = yaml.safe_load(f.read())"
   ]
  },
  {
   "cell_type": "code",
   "execution_count": 5,
   "id": "9c16995d-815d-4d3a-ba17-e42c2eefbcaa",
   "metadata": {},
   "outputs": [
    {
     "data": {
      "text/plain": [
       "{'mqtt': {'host': 'example.com', 'port': 8883, 'retries': 3},\n",
       " 'log_level': 'info',\n",
       " 'polling_interval': 300,\n",
       " 'sensors': None}"
      ]
     },
     "execution_count": 5,
     "metadata": {},
     "output_type": "execute_result"
    }
   ],
   "source": [
    "config"
   ]
  },
  {
   "cell_type": "code",
   "execution_count": 30,
   "id": "67f96a85-3d75-4577-b597-dc9701836534",
   "metadata": {},
   "outputs": [],
   "source": [
    "c = Conf(**config)"
   ]
  },
  {
   "cell_type": "code",
   "execution_count": 31,
   "id": "12f309f5-4cc4-4849-9870-cf12002f2a47",
   "metadata": {},
   "outputs": [],
   "source": [
    "c.mqtt = MqttConfig(**c.mqtt)"
   ]
  },
  {
   "cell_type": "code",
   "execution_count": 32,
   "id": "f51a7c9b-3e09-496d-b4d6-a0bc3cda2f2a",
   "metadata": {},
   "outputs": [
    {
     "data": {
      "text/plain": [
       "[{'cool_setpoint': 75,\n",
       "  'heat_setpoint': 68,\n",
       "  'name': 'hestia_pi',\n",
       "  'topic': 'homeassistant/climate/hestiapi',\n",
       "  'type': 'hestiapi',\n",
       "  'min_run_time': None}]"
      ]
     },
     "execution_count": 32,
     "metadata": {},
     "output_type": "execute_result"
    }
   ],
   "source": [
    "c.sensors"
   ]
  },
  {
   "cell_type": "code",
   "execution_count": 33,
   "id": "d3703584-34db-40d1-a556-a112fa9378a6",
   "metadata": {},
   "outputs": [],
   "source": [
    "c.sensors = [SensorConfig(**sensor) for sensor in c.sensors]"
   ]
  },
  {
   "cell_type": "code",
   "execution_count": 34,
   "id": "3e13df6d-caf3-4869-8d67-eecf3cbb584a",
   "metadata": {},
   "outputs": [
    {
     "data": {
      "text/plain": [
       "MqttConfig(host='example.com', port=8883, username=None, password=None, ca_cert=None, retries=3)"
      ]
     },
     "execution_count": 34,
     "metadata": {},
     "output_type": "execute_result"
    }
   ],
   "source": [
    "c.mqtt"
   ]
  },
  {
   "cell_type": "code",
   "execution_count": 35,
   "id": "d1d1a7c4-4fee-46cd-a853-dfde484ef42e",
   "metadata": {},
   "outputs": [
    {
     "ename": "ValueError",
     "evalue": "too many values to unpack (expected 2)",
     "output_type": "error",
     "traceback": [
      "\u001b[0;31m---------------------------------------------------------------------------\u001b[0m",
      "\u001b[0;31mValueError\u001b[0m                                Traceback (most recent call last)",
      "Cell \u001b[0;32mIn [35], line 1\u001b[0m\n\u001b[0;32m----> 1\u001b[0m HestiaPi(\u001b[38;5;241m*\u001b[39m\u001b[38;5;241m*\u001b[39mc\u001b[38;5;241m.\u001b[39msensors[\u001b[38;5;241m0\u001b[39m])\n",
      "File \u001b[0;32m~/.pyenv/versions/3.9.7/lib/python3.9/_collections_abc.py:826\u001b[0m, in \u001b[0;36mKeysView.__iter__\u001b[0;34m(self)\u001b[0m\n\u001b[1;32m    825\u001b[0m \u001b[38;5;28;01mdef\u001b[39;00m \u001b[38;5;21m__iter__\u001b[39m(\u001b[38;5;28mself\u001b[39m):\n\u001b[0;32m--> 826\u001b[0m     \u001b[38;5;28;01myield from\u001b[39;00m \u001b[38;5;28mself\u001b[39m\u001b[38;5;241m.\u001b[39m_mapping\n",
      "File \u001b[0;32m~/Nextcloud/git/rpi2mqtt/rpi2mqtt/config.py:40\u001b[0m, in \u001b[0;36mSensorConfig.__iter__\u001b[0;34m(self)\u001b[0m\n\u001b[1;32m     39\u001b[0m \u001b[38;5;28;01mdef\u001b[39;00m \u001b[38;5;21m__iter__\u001b[39m(\u001b[38;5;28mself\u001b[39m):\n\u001b[0;32m---> 40\u001b[0m     \u001b[38;5;28;01mfor\u001b[39;00m k, v \u001b[38;5;129;01min\u001b[39;00m {k: v \u001b[38;5;28;01mfor\u001b[39;00m k,v \u001b[38;5;129;01min\u001b[39;00m \u001b[38;5;28mself\u001b[39m\u001b[38;5;241m.\u001b[39m\u001b[38;5;18m__dict__\u001b[39m\u001b[38;5;241m.\u001b[39mitems() \u001b[38;5;28;01mif\u001b[39;00m v}:\n\u001b[1;32m     41\u001b[0m         \u001b[38;5;28;01myield\u001b[39;00m k\n",
      "\u001b[0;31mValueError\u001b[0m: too many values to unpack (expected 2)"
     ]
    }
   ],
   "source": [
    "HestiaPi(**c.sensors[0])"
   ]
  },
  {
   "cell_type": "code",
   "execution_count": 14,
   "id": "5e9a29ff-57c8-4679-b4c5-d750bea3c2e9",
   "metadata": {},
   "outputs": [],
   "source": [
    "cfg = \"\"\"log_level: info\n",
    "mqtt:\n",
    "  ca_cert: /home/pi/ca-chain.crt\n",
    "  host: brains.lan\n",
    "  password: verylongpassword\n",
    "  port: 8883\n",
    "  retries: 3\n",
    "  username: thermostat_pi\n",
    "polling_interval: 300\n",
    "sensors:\n",
    "- name: thermostat_temp\n",
    "  topic: homeassistant/sensor/thermostat_temp/state\n",
    "  type: bme280\n",
    "- beacon_away_timeout: 10\n",
    "  name: lilly_bookbag\n",
    "  topic: homeassistant/binary_sensor/lilly_bookbag_presence/state\n",
    "  type: ibeacon\n",
    "  beacon_uuid: d83ccd9b-1f1e-4d4d-b825-c26ba15cb2c4\n",
    "- cool_setpoint: 75\n",
    "  heat_setpoint: 68\n",
    "  name: hestia_pi\n",
    "  topic: homeassistant/climate/hestiapi\n",
    "  type: hestiapi\n",
    "  min_run_time: null\n",
    "\"\"\""
   ]
  },
  {
   "cell_type": "code",
   "execution_count": 15,
   "id": "fb1cc380-516c-4ca8-bac0-8ca37891718c",
   "metadata": {},
   "outputs": [
    {
     "name": "stderr",
     "output_type": "stream",
     "text": [
      "/var/folders/3p/6t38_0bd0l560slr4fmpbb900000gq/T/ipykernel_43025/2644098324.py:1: YAMLLoadWarning: calling yaml.load() without Loader=... is deprecated, as the default Loader is unsafe. Please read https://msg.pyyaml.org/load for full details.\n",
      "  config = yaml.load(cfg)\n"
     ]
    }
   ],
   "source": [
    "config = yaml.load(cfg)"
   ]
  },
  {
   "cell_type": "code",
   "execution_count": 20,
   "id": "3fa18c85-256d-4e90-97c2-f5599b6ef977",
   "metadata": {},
   "outputs": [
    {
     "data": {
      "text/plain": [
       "{'log_level': 'info',\n",
       " 'mqtt': {'ca_cert': '/home/pi/ca-chain.crt',\n",
       "  'host': 'brains.lan',\n",
       "  'password': 'verylongpassword',\n",
       "  'port': 8883,\n",
       "  'retries': 3,\n",
       "  'username': 'thermostat_pi'},\n",
       " 'polling_interval': 300,\n",
       " 'sensors': [{'name': 'thermostat_temp',\n",
       "   'topic': 'homeassistant/sensor/thermostat_temp/state',\n",
       "   'type': 'bme280'},\n",
       "  {'beacon_away_timeout': 10,\n",
       "   'name': 'lilly_bookbag',\n",
       "   'topic': 'homeassistant/binary_sensor/lilly_bookbag_presence/state',\n",
       "   'type': 'ibeacon',\n",
       "   'beacon_uuid': 'd83ccd9b-1f1e-4d4d-b825-c26ba15cb2c4'},\n",
       "  {'cool_setpoint': 75,\n",
       "   'heat_setpoint': 68,\n",
       "   'name': 'hestia_pi',\n",
       "   'topic': 'homeassistant/climate/hestiapi',\n",
       "   'type': 'hestiapi',\n",
       "   'min_run_time': None}]}"
      ]
     },
     "execution_count": 20,
     "metadata": {},
     "output_type": "execute_result"
    }
   ],
   "source": [
    "config"
   ]
  },
  {
   "cell_type": "code",
   "execution_count": null,
   "id": "fed204b6-cd76-4e5d-b49f-340dc9d477bd",
   "metadata": {},
   "outputs": [],
   "source": [
    "Config.load("
   ]
  },
  {
   "cell_type": "code",
   "execution_count": 24,
   "id": "d5281013-5fce-4298-a4e2-3fa6343990ba",
   "metadata": {},
   "outputs": [],
   "source": [
    "c = Config.load(config)"
   ]
  },
  {
   "cell_type": "code",
   "execution_count": 27,
   "id": "31047fc7-8d86-499b-b579-7cf5776131de",
   "metadata": {},
   "outputs": [
    {
     "data": {
      "text/plain": [
       "Conf(mqtt=MqttConfig(host='brains.lan', port=8883, username='thermostat_pi', password='verylongpassword', ca_cert='/home/pi/ca-chain.crt', retries=3), polling_interval=300, log_level='info', sensors=[{'name': 'thermostat_temp', 'topic': 'homeassistant/sensor/thermostat_temp/state', 'type': 'bme280'}, {'beacon_away_timeout': 10, 'name': 'lilly_bookbag', 'topic': 'homeassistant/binary_sensor/lilly_bookbag_presence/state', 'type': 'ibeacon', 'beacon_uuid': 'd83ccd9b-1f1e-4d4d-b825-c26ba15cb2c4'}, {'cool_setpoint': 75, 'heat_setpoint': 68, 'name': 'hestia_pi', 'topic': 'homeassistant/climate/hestiapi', 'type': 'hestiapi', 'min_run_time': None}])"
      ]
     },
     "execution_count": 27,
     "metadata": {},
     "output_type": "execute_result"
    }
   ],
   "source": [
    "c"
   ]
  },
  {
   "cell_type": "code",
   "execution_count": 28,
   "id": "d4c2a04b-d52b-4479-bb11-de7b8de287b9",
   "metadata": {},
   "outputs": [],
   "source": [
    "c = Conf(**config)\n",
    "\n",
    "c.mqtt = MqttConfig(**c.mqtt)\n",
    "\n",
    "c.sensors = {sensor['name']: SensorConfig(**sensor) for sensor in c.sensors}"
   ]
  },
  {
   "cell_type": "code",
   "execution_count": 32,
   "id": "8476d26a-9e99-4566-9818-a9f107350fee",
   "metadata": {},
   "outputs": [
    {
     "data": {
      "text/plain": [
       "{'mqtt': {'host': 'brains.lan',\n",
       "  'port': 8883,\n",
       "  'username': 'thermostat_pi',\n",
       "  'password': 'verylongpassword',\n",
       "  'ca_cert': '/home/pi/ca-chain.crt',\n",
       "  'retries': 3},\n",
       " 'polling_interval': 300,\n",
       " 'log_level': 'info',\n",
       " 'sensors': [{'type': 'bme280',\n",
       "   'name': 'thermostat_temp',\n",
       "   'topic': 'homeassistant/sensor/thermostat_temp/state'},\n",
       "  {'type': 'ibeacon',\n",
       "   'name': 'lilly_bookbag',\n",
       "   'topic': 'homeassistant/binary_sensor/lilly_bookbag_presence/state',\n",
       "   'beacon_uuid': 'd83ccd9b-1f1e-4d4d-b825-c26ba15cb2c4',\n",
       "   'beacon_away_timeout': 10},\n",
       "  {'type': 'hestiapi',\n",
       "   'name': 'hestia_pi',\n",
       "   'topic': 'homeassistant/climate/hestiapi',\n",
       "   'heat_setpoint': 68,\n",
       "   'cool_setpoint': 75}]}"
      ]
     },
     "execution_count": 32,
     "metadata": {},
     "output_type": "execute_result"
    }
   ],
   "source": [
    "c.to_dict()"
   ]
  },
  {
   "cell_type": "code",
   "execution_count": null,
   "id": "72f8c4d5-d2fc-4a5c-b148-fc8528776468",
   "metadata": {},
   "outputs": [],
   "source": []
  },
  {
   "cell_type": "code",
   "execution_count": 22,
   "id": "509badc1-af7d-4158-bc21-cda96418bb88",
   "metadata": {},
   "outputs": [],
   "source": [
    "therm = HestiaPi(**c.sensors[2])"
   ]
  },
  {
   "cell_type": "code",
   "execution_count": 24,
   "id": "c9b892a3-f0d8-41c9-bcf9-be592bd6d30b",
   "metadata": {},
   "outputs": [
    {
     "data": {
      "text/plain": [
       "15"
      ]
     },
     "execution_count": 24,
     "metadata": {},
     "output_type": "execute_result"
    }
   ],
   "source": [
    "therm.min_run_time"
   ]
  },
  {
   "cell_type": "code",
   "execution_count": 64,
   "id": "a57f0ee2-1fe8-40ea-bc17-02f9e2edcd8b",
   "metadata": {},
   "outputs": [
    {
     "data": {
      "text/plain": [
       "{'mode': 'heat',\n",
       " 'active_start_time': None,\n",
       " 'set_point_cool': 75,\n",
       " 'set_point_heat': 68,\n",
       " 'set_point_tolerance': 0.5,\n",
       " 'min_run_time': 15,\n",
       " 'min_trigger_cooldown_time': 15,\n",
       " 'last_mode_change_time': None,\n",
       " 'last_hvac_state_change_time': None,\n",
       " 'bme280': None,\n",
       " 'temperature_history': deque([], maxlen=6),\n",
       " 'minimum_temp_rate_of_change': -0.25,\n",
       " 'dry_run': None,\n",
       " 'aux_enabled': 'on'}"
      ]
     },
     "execution_count": 64,
     "metadata": {},
     "output_type": "execute_result"
    }
   ],
   "source": [
    "_keys = list(filter(lambda k: not(k.startswith('_')), therm.__dict__.keys()))\n",
    "{k: v for k, v in therm.__dict__.items() if k in _keys}"
   ]
  },
  {
   "cell_type": "code",
   "execution_count": 9,
   "id": "db5a4298-0f29-4e96-a92b-191b037f37ea",
   "metadata": {},
   "outputs": [],
   "source": [
    "from dataclasses import asdict"
   ]
  },
  {
   "cell_type": "code",
   "execution_count": null,
   "id": "53ceb727-f259-4627-b38a-83bee87f5c34",
   "metadata": {},
   "outputs": [],
   "source": [
    "_cfg = asdict(c)\n",
    "\n",
    "sensors = []\n",
    "for sensor in _cfg['sensors']:\n",
    "    sensors.append({k:v for k,v in sensor.items() if v})\n",
    "_cfg['sensors'] = sensors"
   ]
  },
  {
   "cell_type": "code",
   "execution_count": 13,
   "id": "a060e2d8-5e89-4724-81ab-eb9038074d39",
   "metadata": {},
   "outputs": [
    {
     "data": {
      "text/plain": [
       "{'mqtt': {'host': 'brains.lan',\n",
       "  'port': 8883,\n",
       "  'username': 'thermostat_pi',\n",
       "  'password': 'verylongpassword',\n",
       "  'ca_cert': '/home/pi/ca-chain.crt',\n",
       "  'retries': 3},\n",
       " 'polling_interval': 300,\n",
       " 'log_level': 'info',\n",
       " 'sensors': [{'type': 'bme280',\n",
       "   'name': 'thermostat_temp',\n",
       "   'topic': 'homeassistant/sensor/thermostat_temp/state'},\n",
       "  {'type': 'ibeacon',\n",
       "   'name': 'lilly_bookbag',\n",
       "   'topic': 'homeassistant/binary_sensor/lilly_bookbag_presence/state',\n",
       "   'beacon_uuid': 'd83ccd9b-1f1e-4d4d-b825-c26ba15cb2c4',\n",
       "   'beacon_away_timeout': 10},\n",
       "  {'type': 'hestiapi',\n",
       "   'name': 'hestia_pi',\n",
       "   'topic': 'homeassistant/climate/hestiapi',\n",
       "   'heat_setpoint': 68,\n",
       "   'cool_setpoint': 75}]}"
      ]
     },
     "execution_count": 13,
     "metadata": {},
     "output_type": "execute_result"
    }
   ],
   "source": [
    "_cfg"
   ]
  },
  {
   "cell_type": "code",
   "execution_count": null,
   "id": "165c0ac2-cfc2-4280-94e8-0d1c9bead870",
   "metadata": {},
   "outputs": [],
   "source": []
  }
 ],
 "metadata": {
  "kernelspec": {
   "display_name": "ipython",
   "language": "python",
   "name": "ipython"
  },
  "language_info": {
   "codemirror_mode": {
    "name": "ipython",
    "version": 3
   },
   "file_extension": ".py",
   "mimetype": "text/x-python",
   "name": "python",
   "nbconvert_exporter": "python",
   "pygments_lexer": "ipython3",
   "version": "3.9.7"
  }
 },
 "nbformat": 4,
 "nbformat_minor": 5
}
